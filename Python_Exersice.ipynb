{
  "nbformat": 4,
  "nbformat_minor": 0,
  "metadata": {
    "colab": {
      "provenance": [],
      "authorship_tag": "ABX9TyOhLQ/gxNuzj3QJF+o6diF2"
    },
    "kernelspec": {
      "name": "python3",
      "display_name": "Python 3"
    },
    "language_info": {
      "name": "python"
    }
  },
  "cells": [
    {
      "cell_type": "markdown",
      "source": [
        "Using the `print()` function, print string: `'Learn Python!'` to the console."
      ],
      "metadata": {
        "id": "MLVM4XEHsfqa"
      }
    },
    {
      "cell_type": "code",
      "source": [
        "print('Learn Python!')"
      ],
      "metadata": {
        "colab": {
          "base_uri": "https://localhost:8080/"
        },
        "id": "Pqb9n4MdsiLh",
        "outputId": "3fc443e3-4ae2-4274-ea43-9eb4f46edcd2"
      },
      "execution_count": 1,
      "outputs": [
        {
          "output_type": "stream",
          "name": "stdout",
          "text": [
            "Learn Python!\n"
          ]
        }
      ]
    },
    {
      "cell_type": "markdown",
      "source": [
        "Assign to the variable age number 20. Using the age variable and the `print()` function print to the console the following text:\n",
        "\n",
        "\n",
        "\n",
        "`I am 20 years old.`\n"
      ],
      "metadata": {
        "id": "x1pl1lEbsjpo"
      }
    },
    {
      "cell_type": "code",
      "source": [
        "age = 20\n",
        "print(\"I am {} years old.\".format(age))"
      ],
      "metadata": {
        "colab": {
          "base_uri": "https://localhost:8080/"
        },
        "id": "QXUxCBmTs8_d",
        "outputId": "4e256fd1-7382-469d-abec-070118246de5"
      },
      "execution_count": 2,
      "outputs": [
        {
          "output_type": "stream",
          "name": "stdout",
          "text": [
            "I am 20 years old.\n"
          ]
        }
      ]
    }
  ]
}